{
 "cells": [
  {
   "cell_type": "markdown",
   "metadata": {},
   "source": [
    "EJERCICIO 1.\n",
    "Usando la librería seaborn, crea una gráfica de barras que muestre el número de personas que han hecho cada actividad en cada año. Hacedlo solo desde el 2015. Os podrá salir una gráfica un poco fea, no os preocupeis, es lo que esperamos"
   ]
  },
  {
   "cell_type": "code",
   "execution_count": 1,
   "metadata": {},
   "outputs": [],
   "source": [
    "import pandas as pd\n",
    "import numpy as np\n",
    "import seaborn as sns\n",
    "import matplotlib.pyplot as plt"
   ]
  },
  {
   "cell_type": "code",
   "execution_count": 2,
   "metadata": {},
   "outputs": [
    {
     "data": {
      "text/html": [
       "<div>\n",
       "<style scoped>\n",
       "    .dataframe tbody tr th:only-of-type {\n",
       "        vertical-align: middle;\n",
       "    }\n",
       "\n",
       "    .dataframe tbody tr th {\n",
       "        vertical-align: top;\n",
       "    }\n",
       "\n",
       "    .dataframe thead th {\n",
       "        text-align: right;\n",
       "    }\n",
       "</style>\n",
       "<table border=\"1\" class=\"dataframe\">\n",
       "  <thead>\n",
       "    <tr style=\"text-align: right;\">\n",
       "      <th></th>\n",
       "      <th>Unnamed: 0</th>\n",
       "      <th>case-number</th>\n",
       "      <th>year</th>\n",
       "      <th>type</th>\n",
       "      <th>country</th>\n",
       "      <th>area</th>\n",
       "      <th>location</th>\n",
       "      <th>activity</th>\n",
       "      <th>name</th>\n",
       "      <th>sex-</th>\n",
       "      <th>age</th>\n",
       "      <th>time</th>\n",
       "      <th>species-</th>\n",
       "      <th>href</th>\n",
       "      <th>case-number.2</th>\n",
       "      <th>siglo</th>\n",
       "    </tr>\n",
       "  </thead>\n",
       "  <tbody>\n",
       "    <tr>\n",
       "      <th>0</th>\n",
       "      <td>0</td>\n",
       "      <td>2018.06.25</td>\n",
       "      <td>2018.0</td>\n",
       "      <td>Boating</td>\n",
       "      <td>USA</td>\n",
       "      <td>California</td>\n",
       "      <td>Oceanside, San Diego County</td>\n",
       "      <td>Paddling</td>\n",
       "      <td>Julie Wolfe</td>\n",
       "      <td>F</td>\n",
       "      <td>57</td>\n",
       "      <td>18h00</td>\n",
       "      <td>White shark</td>\n",
       "      <td>http://sharkattackfile.net/spreadsheets/pdf_di...</td>\n",
       "      <td>2018.06.25</td>\n",
       "      <td>siglo_XXI</td>\n",
       "    </tr>\n",
       "    <tr>\n",
       "      <th>1</th>\n",
       "      <td>6</td>\n",
       "      <td>2018.06.03.a</td>\n",
       "      <td>2018.0</td>\n",
       "      <td>Unprovoked</td>\n",
       "      <td>BRAZIL</td>\n",
       "      <td>Pernambuco</td>\n",
       "      <td>Piedade Beach, Recife</td>\n",
       "      <td>Swimming</td>\n",
       "      <td>Jose Ernesto da Silva</td>\n",
       "      <td>M</td>\n",
       "      <td>18</td>\n",
       "      <td>Late afternoon</td>\n",
       "      <td>Tiger shark</td>\n",
       "      <td>http://sharkattackfile.net/spreadsheets/pdf_di...</td>\n",
       "      <td>2018.06.03.a</td>\n",
       "      <td>siglo_XXI</td>\n",
       "    </tr>\n",
       "    <tr>\n",
       "      <th>2</th>\n",
       "      <td>8</td>\n",
       "      <td>2018.05.26.b</td>\n",
       "      <td>2018.0</td>\n",
       "      <td>Unprovoked</td>\n",
       "      <td>USA</td>\n",
       "      <td>Florida</td>\n",
       "      <td>Cocoa Beach, Brevard  County</td>\n",
       "      <td>Walking</td>\n",
       "      <td>Cody High</td>\n",
       "      <td>M</td>\n",
       "      <td>15</td>\n",
       "      <td>17h00</td>\n",
       "      <td>Bull shark, 6'</td>\n",
       "      <td>http://sharkattackfile.net/spreadsheets/pdf_di...</td>\n",
       "      <td>2018.05.26.b</td>\n",
       "      <td>siglo_XXI</td>\n",
       "    </tr>\n",
       "  </tbody>\n",
       "</table>\n",
       "</div>"
      ],
      "text/plain": [
       "   Unnamed: 0   case-number    year        type country        area  \\\n",
       "0           0    2018.06.25  2018.0     Boating     USA  California   \n",
       "1           6  2018.06.03.a  2018.0  Unprovoked  BRAZIL  Pernambuco   \n",
       "2           8  2018.05.26.b  2018.0  Unprovoked     USA     Florida   \n",
       "\n",
       "                       location  activity                    name sex- age  \\\n",
       "0   Oceanside, San Diego County  Paddling             Julie Wolfe    F  57   \n",
       "1         Piedade Beach, Recife  Swimming  Jose Ernesto da Silva     M  18   \n",
       "2  Cocoa Beach, Brevard  County   Walking               Cody High    M  15   \n",
       "\n",
       "             time        species-  \\\n",
       "0           18h00     White shark   \n",
       "1  Late afternoon     Tiger shark   \n",
       "2           17h00  Bull shark, 6'   \n",
       "\n",
       "                                                href case-number.2      siglo  \n",
       "0  http://sharkattackfile.net/spreadsheets/pdf_di...    2018.06.25  siglo_XXI  \n",
       "1  http://sharkattackfile.net/spreadsheets/pdf_di...  2018.06.03.a  siglo_XXI  \n",
       "2  http://sharkattackfile.net/spreadsheets/pdf_di...  2018.05.26.b  siglo_XXI  "
      ]
     },
     "execution_count": 2,
     "metadata": {},
     "output_type": "execute_result"
    }
   ],
   "source": [
    "df = pd.read_csv(\"attacks2.csv\")\n",
    "df.head(3)"
   ]
  },
  {
   "cell_type": "code",
   "execution_count": 3,
   "metadata": {},
   "outputs": [
    {
     "name": "stdout",
     "output_type": "stream",
     "text": [
      "<class 'pandas.core.frame.DataFrame'>\n",
      "RangeIndex: 1502 entries, 0 to 1501\n",
      "Data columns (total 16 columns):\n",
      " #   Column         Non-Null Count  Dtype  \n",
      "---  ------         --------------  -----  \n",
      " 0   Unnamed: 0     1502 non-null   int64  \n",
      " 1   case-number    1502 non-null   object \n",
      " 2   year           1502 non-null   float64\n",
      " 3   type           1502 non-null   object \n",
      " 4   country        1502 non-null   object \n",
      " 5   area           1502 non-null   object \n",
      " 6   location       1502 non-null   object \n",
      " 7   activity       1502 non-null   object \n",
      " 8   name           1502 non-null   object \n",
      " 9   sex-           1502 non-null   object \n",
      " 10  age            1502 non-null   object \n",
      " 11  time           1502 non-null   object \n",
      " 12  species-       1502 non-null   object \n",
      " 13  href           1502 non-null   object \n",
      " 14  case-number.2  1502 non-null   object \n",
      " 15  siglo          1502 non-null   object \n",
      "dtypes: float64(1), int64(1), object(14)\n",
      "memory usage: 187.9+ KB\n"
     ]
    }
   ],
   "source": [
    "df.info()"
   ]
  },
  {
   "cell_type": "code",
   "execution_count": 4,
   "metadata": {},
   "outputs": [
    {
     "data": {
      "text/html": [
       "<div>\n",
       "<style scoped>\n",
       "    .dataframe tbody tr th:only-of-type {\n",
       "        vertical-align: middle;\n",
       "    }\n",
       "\n",
       "    .dataframe tbody tr th {\n",
       "        vertical-align: top;\n",
       "    }\n",
       "\n",
       "    .dataframe thead th {\n",
       "        text-align: right;\n",
       "    }\n",
       "</style>\n",
       "<table border=\"1\" class=\"dataframe\">\n",
       "  <thead>\n",
       "    <tr style=\"text-align: right;\">\n",
       "      <th></th>\n",
       "      <th>Unnamed: 0</th>\n",
       "      <th>case-number</th>\n",
       "      <th>year</th>\n",
       "      <th>type</th>\n",
       "      <th>country</th>\n",
       "      <th>area</th>\n",
       "      <th>location</th>\n",
       "      <th>activity</th>\n",
       "      <th>name</th>\n",
       "      <th>sex-</th>\n",
       "      <th>age</th>\n",
       "      <th>time</th>\n",
       "      <th>species-</th>\n",
       "      <th>href</th>\n",
       "      <th>case-number.2</th>\n",
       "      <th>siglo</th>\n",
       "    </tr>\n",
       "  </thead>\n",
       "  <tbody>\n",
       "    <tr>\n",
       "      <th>0</th>\n",
       "      <td>0</td>\n",
       "      <td>2018.06.25</td>\n",
       "      <td>2018.0</td>\n",
       "      <td>Boating</td>\n",
       "      <td>USA</td>\n",
       "      <td>California</td>\n",
       "      <td>Oceanside, San Diego County</td>\n",
       "      <td>Paddling</td>\n",
       "      <td>Julie Wolfe</td>\n",
       "      <td>F</td>\n",
       "      <td>57</td>\n",
       "      <td>18h00</td>\n",
       "      <td>White shark</td>\n",
       "      <td>http://sharkattackfile.net/spreadsheets/pdf_di...</td>\n",
       "      <td>2018.06.25</td>\n",
       "      <td>siglo_XXI</td>\n",
       "    </tr>\n",
       "    <tr>\n",
       "      <th>1</th>\n",
       "      <td>6</td>\n",
       "      <td>2018.06.03.a</td>\n",
       "      <td>2018.0</td>\n",
       "      <td>Unprovoked</td>\n",
       "      <td>BRAZIL</td>\n",
       "      <td>Pernambuco</td>\n",
       "      <td>Piedade Beach, Recife</td>\n",
       "      <td>Swimming</td>\n",
       "      <td>Jose Ernesto da Silva</td>\n",
       "      <td>M</td>\n",
       "      <td>18</td>\n",
       "      <td>Late afternoon</td>\n",
       "      <td>Tiger shark</td>\n",
       "      <td>http://sharkattackfile.net/spreadsheets/pdf_di...</td>\n",
       "      <td>2018.06.03.a</td>\n",
       "      <td>siglo_XXI</td>\n",
       "    </tr>\n",
       "  </tbody>\n",
       "</table>\n",
       "</div>"
      ],
      "text/plain": [
       "   Unnamed: 0   case-number    year        type country        area  \\\n",
       "0           0    2018.06.25  2018.0     Boating     USA  California   \n",
       "1           6  2018.06.03.a  2018.0  Unprovoked  BRAZIL  Pernambuco   \n",
       "\n",
       "                      location  activity                    name sex- age  \\\n",
       "0  Oceanside, San Diego County  Paddling             Julie Wolfe    F  57   \n",
       "1        Piedade Beach, Recife  Swimming  Jose Ernesto da Silva     M  18   \n",
       "\n",
       "             time     species-  \\\n",
       "0           18h00  White shark   \n",
       "1  Late afternoon  Tiger shark   \n",
       "\n",
       "                                                href case-number.2      siglo  \n",
       "0  http://sharkattackfile.net/spreadsheets/pdf_di...    2018.06.25  siglo_XXI  \n",
       "1  http://sharkattackfile.net/spreadsheets/pdf_di...  2018.06.03.a  siglo_XXI  "
      ]
     },
     "execution_count": 4,
     "metadata": {},
     "output_type": "execute_result"
    }
   ],
   "source": [
    "df_2015 = df[df[\"year\"]>2015]\n",
    "df_2015.head(2)"
   ]
  },
  {
   "cell_type": "code",
   "execution_count": 5,
   "metadata": {},
   "outputs": [
    {
     "data": {
      "text/plain": [
       "activity                 year  \n",
       "Body boarding            2017.0     1\n",
       "Diving                   2016.0     1\n",
       "Feeding sharks           2018.0     1\n",
       "Fishing                  2016.0     5\n",
       "                         2017.0     1\n",
       "                         2018.0     2\n",
       "Floating                 2016.0     2\n",
       "Floating in tube         2016.0     1\n",
       "Kayaking                 2017.0     1\n",
       "Kayaking / Fishing       2017.0     1\n",
       "Kite surfing             2016.0     1\n",
       "Night bathing            2017.0     1\n",
       "Paddle boarding          2016.0     1\n",
       "Paddle-skiing            2018.0     1\n",
       "Paddling                 2018.0     1\n",
       "SUP                      2017.0     2\n",
       "SUP Foil boarding        2016.0     1\n",
       "Scuba Diving             2017.0     1\n",
       "Scuba diving             2018.0     1\n",
       "Snorkeling               2017.0     2\n",
       "Spearfishing             2016.0     3\n",
       "                         2017.0     1\n",
       "Stand-Up Paddleboarding  2018.0     1\n",
       "Standing                 2016.0     1\n",
       "Surf fishing             2016.0     1\n",
       "Surf skiing              2016.0     1\n",
       "Surfing                  2016.0     8\n",
       "                         2017.0    13\n",
       "                         2018.0     4\n",
       "Swimming                 2016.0     7\n",
       "                         2017.0     5\n",
       "                         2018.0     3\n",
       "Teasing a shark          2016.0     1\n",
       "Wading                   2016.0     2\n",
       "                         2017.0     1\n",
       "                         2018.0     1\n",
       "Walking                  2016.0     1\n",
       "                         2018.0     2\n",
       "dtype: int64"
      ]
     },
     "execution_count": 5,
     "metadata": {},
     "output_type": "execute_result"
    }
   ],
   "source": [
    "actividad_agrupado = df_2015.groupby([\"activity\",\"year\"])\n",
    "actividad_agrupado.size()"
   ]
  },
  {
   "cell_type": "code",
   "execution_count": 8,
   "metadata": {},
   "outputs": [
    {
     "data": {
      "text/html": [
       "<div>\n",
       "<style scoped>\n",
       "    .dataframe tbody tr th:only-of-type {\n",
       "        vertical-align: middle;\n",
       "    }\n",
       "\n",
       "    .dataframe tbody tr th {\n",
       "        vertical-align: top;\n",
       "    }\n",
       "\n",
       "    .dataframe thead th {\n",
       "        text-align: right;\n",
       "    }\n",
       "</style>\n",
       "<table border=\"1\" class=\"dataframe\">\n",
       "  <thead>\n",
       "    <tr style=\"text-align: right;\">\n",
       "      <th></th>\n",
       "      <th>activity</th>\n",
       "      <th>year</th>\n",
       "      <th>0</th>\n",
       "    </tr>\n",
       "  </thead>\n",
       "  <tbody>\n",
       "    <tr>\n",
       "      <th>0</th>\n",
       "      <td>Body boarding</td>\n",
       "      <td>2017.0</td>\n",
       "      <td>1</td>\n",
       "    </tr>\n",
       "    <tr>\n",
       "      <th>1</th>\n",
       "      <td>Diving</td>\n",
       "      <td>2016.0</td>\n",
       "      <td>1</td>\n",
       "    </tr>\n",
       "    <tr>\n",
       "      <th>2</th>\n",
       "      <td>Feeding sharks</td>\n",
       "      <td>2018.0</td>\n",
       "      <td>1</td>\n",
       "    </tr>\n",
       "    <tr>\n",
       "      <th>3</th>\n",
       "      <td>Fishing</td>\n",
       "      <td>2016.0</td>\n",
       "      <td>5</td>\n",
       "    </tr>\n",
       "    <tr>\n",
       "      <th>4</th>\n",
       "      <td>Fishing</td>\n",
       "      <td>2017.0</td>\n",
       "      <td>1</td>\n",
       "    </tr>\n",
       "  </tbody>\n",
       "</table>\n",
       "</div>"
      ],
      "text/plain": [
       "         activity    year  0\n",
       "0   Body boarding  2017.0  1\n",
       "1          Diving  2016.0  1\n",
       "2  Feeding sharks  2018.0  1\n",
       "3         Fishing  2016.0  5\n",
       "4         Fishing  2017.0  1"
      ]
     },
     "execution_count": 8,
     "metadata": {},
     "output_type": "execute_result"
    }
   ],
   "source": [
    "df_f = df_2015.groupby([\"activity\",\"year\"]).size().reset_index()\n",
    "df_f.head()"
   ]
  },
  {
   "cell_type": "code",
   "execution_count": 25,
   "metadata": {},
   "outputs": [
    {
     "data": {
      "image/png": "[encoded data removed]",
      "text/plain": [
       "<Figure size 1152x576 with 1 Axes>"
      ]
     },
     "metadata": {
      "needs_background": "light"
     },
     "output_type": "display_data"
    }
   ],
   "source": [
    "plt.figure(figsize = (16,8))\n",
    "\n",
    "fig = sns.histplot(x = 'year', y = 0 ,data = df_f, hue = 'activity')\n",
    "fig.set(xlabel = 'Year', ylabel= 'Number of attacks')\n",
    "fig.set_title('Number of attacks per year and activity')\n",
    "plt.grid()\n",
    "plt.show()\n"
   ]
  },
  {
   "cell_type": "markdown",
   "metadata": {},
   "source": [
    "EJERCICIO 2.\n",
    "Usando la librería seaborn, crea una gráfica de barras que muestre el número de ataques que han ocurrido cada año en función del sexo. Hacedlo solo desde el 2015. "
   ]
  },
  {
   "cell_type": "code",
   "execution_count": null,
   "metadata": {},
   "outputs": [],
   "source": []
  }
 ],
 "metadata": {
  "kernelspec": {
   "display_name": "Python 3.9.7 ('base')",
   "language": "python",
   "name": "python3"
  },
  "language_info": {
   "codemirror_mode": {
    "name": "ipython",
    "version": 3
   },
   "file_extension": ".py",
   "mimetype": "text/x-python",
   "name": "python",
   "nbconvert_exporter": "python",
   "pygments_lexer": "ipython3",
   "version": "3.9.7"
  },
  "orig_nbformat": 4,
  "vscode": {
   "interpreter": {
    "hash": "40d3a090f54c6569ab1632332b64b2c03c39dcf918b08424e98f38b5ae0af88f"
   }
  }
 },
 "nbformat": 4,
 "nbformat_minor": 2
}
