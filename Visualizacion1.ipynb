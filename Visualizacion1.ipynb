{
 "cells": [
  {
   "cell_type": "code",
   "execution_count": 1,
   "metadata": {},
   "outputs": [],
   "source": [
    "import pandas as pd\n",
    "import matplotlib.pyplot as plt\n",
    "import numpy as np"
   ]
  },
  {
   "cell_type": "code",
   "execution_count": 2,
   "metadata": {},
   "outputs": [
    {
     "data": {
      "text/html": [
       "<div>\n",
       "<style scoped>\n",
       "    .dataframe tbody tr th:only-of-type {\n",
       "        vertical-align: middle;\n",
       "    }\n",
       "\n",
       "    .dataframe tbody tr th {\n",
       "        vertical-align: top;\n",
       "    }\n",
       "\n",
       "    .dataframe thead th {\n",
       "        text-align: right;\n",
       "    }\n",
       "</style>\n",
       "<table border=\"1\" class=\"dataframe\">\n",
       "  <thead>\n",
       "    <tr style=\"text-align: right;\">\n",
       "      <th></th>\n",
       "      <th>case-number</th>\n",
       "      <th>unnamed:-0</th>\n",
       "      <th>year</th>\n",
       "      <th>type</th>\n",
       "      <th>country</th>\n",
       "      <th>area</th>\n",
       "      <th>location</th>\n",
       "      <th>activity</th>\n",
       "      <th>name</th>\n",
       "      <th>sex-</th>\n",
       "      <th>age</th>\n",
       "      <th>time</th>\n",
       "      <th>species-</th>\n",
       "      <th>href</th>\n",
       "      <th>case-number.2</th>\n",
       "    </tr>\n",
       "  </thead>\n",
       "  <tbody>\n",
       "    <tr>\n",
       "      <th>0</th>\n",
       "      <td>2018.06.25</td>\n",
       "      <td>0</td>\n",
       "      <td>2018.0</td>\n",
       "      <td>Boating</td>\n",
       "      <td>USA</td>\n",
       "      <td>California</td>\n",
       "      <td>Oceanside, San Diego County</td>\n",
       "      <td>Paddling</td>\n",
       "      <td>Julie Wolfe</td>\n",
       "      <td>F</td>\n",
       "      <td>57</td>\n",
       "      <td>18h00</td>\n",
       "      <td>White shark</td>\n",
       "      <td>http://sharkattackfile.net/spreadsheets/pdf_di...</td>\n",
       "      <td>2018.06.25</td>\n",
       "    </tr>\n",
       "    <tr>\n",
       "      <th>1</th>\n",
       "      <td>2018.06.18</td>\n",
       "      <td>1</td>\n",
       "      <td>2018.0</td>\n",
       "      <td>Unprovoked</td>\n",
       "      <td>USA</td>\n",
       "      <td>Georgia</td>\n",
       "      <td>St. Simon Island, Glynn County</td>\n",
       "      <td>Standing</td>\n",
       "      <td>Adyson McNeely</td>\n",
       "      <td>F</td>\n",
       "      <td>11</td>\n",
       "      <td>14h00  -15h00</td>\n",
       "      <td>NaN</td>\n",
       "      <td>http://sharkattackfile.net/spreadsheets/pdf_di...</td>\n",
       "      <td>2018.06.18</td>\n",
       "    </tr>\n",
       "    <tr>\n",
       "      <th>2</th>\n",
       "      <td>2018.06.09</td>\n",
       "      <td>2</td>\n",
       "      <td>2018.0</td>\n",
       "      <td>Invalid</td>\n",
       "      <td>USA</td>\n",
       "      <td>Hawaii</td>\n",
       "      <td>Habush, Oahu</td>\n",
       "      <td>Surfing</td>\n",
       "      <td>John Denges</td>\n",
       "      <td>M</td>\n",
       "      <td>48</td>\n",
       "      <td>07h45</td>\n",
       "      <td>NaN</td>\n",
       "      <td>http://sharkattackfile.net/spreadsheets/pdf_di...</td>\n",
       "      <td>2018.06.09</td>\n",
       "    </tr>\n",
       "    <tr>\n",
       "      <th>3</th>\n",
       "      <td>2018.06.08</td>\n",
       "      <td>3</td>\n",
       "      <td>2018.0</td>\n",
       "      <td>Unprovoked</td>\n",
       "      <td>AUSTRALIA</td>\n",
       "      <td>New South Wales</td>\n",
       "      <td>Arrawarra Headland</td>\n",
       "      <td>Surfing</td>\n",
       "      <td>male</td>\n",
       "      <td>M</td>\n",
       "      <td>NaN</td>\n",
       "      <td>NaN</td>\n",
       "      <td>2 m shark</td>\n",
       "      <td>http://sharkattackfile.net/spreadsheets/pdf_di...</td>\n",
       "      <td>2018.06.08</td>\n",
       "    </tr>\n",
       "    <tr>\n",
       "      <th>4</th>\n",
       "      <td>2018.06.04</td>\n",
       "      <td>4</td>\n",
       "      <td>2018.0</td>\n",
       "      <td>Provoked</td>\n",
       "      <td>MEXICO</td>\n",
       "      <td>Colima</td>\n",
       "      <td>La Ticla</td>\n",
       "      <td>Free diving</td>\n",
       "      <td>Gustavo Ramos</td>\n",
       "      <td>M</td>\n",
       "      <td>NaN</td>\n",
       "      <td>NaN</td>\n",
       "      <td>Tiger shark, 3m</td>\n",
       "      <td>http://sharkattackfile.net/spreadsheets/pdf_di...</td>\n",
       "      <td>2018.06.04</td>\n",
       "    </tr>\n",
       "  </tbody>\n",
       "</table>\n",
       "</div>"
      ],
      "text/plain": [
       "  case-number  unnamed:-0    year        type    country             area  \\\n",
       "0  2018.06.25           0  2018.0     Boating        USA       California   \n",
       "1  2018.06.18           1  2018.0  Unprovoked        USA          Georgia   \n",
       "2  2018.06.09           2  2018.0     Invalid        USA           Hawaii   \n",
       "3  2018.06.08           3  2018.0  Unprovoked  AUSTRALIA  New South Wales   \n",
       "4  2018.06.04           4  2018.0    Provoked     MEXICO           Colima   \n",
       "\n",
       "                         location     activity             name sex-  age  \\\n",
       "0     Oceanside, San Diego County     Paddling      Julie Wolfe    F   57   \n",
       "1  St. Simon Island, Glynn County     Standing  Adyson McNeely     F   11   \n",
       "2                    Habush, Oahu      Surfing      John Denges    M   48   \n",
       "3              Arrawarra Headland      Surfing             male    M  NaN   \n",
       "4                        La Ticla  Free diving   Gustavo Ramos     M  NaN   \n",
       "\n",
       "            time         species-  \\\n",
       "0          18h00      White shark   \n",
       "1  14h00  -15h00              NaN   \n",
       "2          07h45              NaN   \n",
       "3            NaN        2 m shark   \n",
       "4            NaN  Tiger shark, 3m   \n",
       "\n",
       "                                                href case-number.2  \n",
       "0  http://sharkattackfile.net/spreadsheets/pdf_di...    2018.06.25  \n",
       "1  http://sharkattackfile.net/spreadsheets/pdf_di...    2018.06.18  \n",
       "2  http://sharkattackfile.net/spreadsheets/pdf_di...    2018.06.09  \n",
       "3  http://sharkattackfile.net/spreadsheets/pdf_di...    2018.06.08  \n",
       "4  http://sharkattackfile.net/spreadsheets/pdf_di...    2018.06.04  "
      ]
     },
     "execution_count": 2,
     "metadata": {},
     "output_type": "execute_result"
    }
   ],
   "source": [
    "df = pd.read_csv(\"attacks.csv\")\n",
    "df.head()"
   ]
  },
  {
   "cell_type": "markdown",
   "metadata": {},
   "source": [
    "1.\n",
    "¿Cuál es la frecuencia de cada una de las categorías de la columna sex? "
   ]
  },
  {
   "cell_type": "code",
   "execution_count": 3,
   "metadata": {},
   "outputs": [
    {
     "data": {
      "text/plain": [
       "M      4939\n",
       "F       619\n",
       "M         2\n",
       "N         2\n",
       "lli       1\n",
       ".         1\n",
       "Name: sex-, dtype: int64"
      ]
     },
     "execution_count": 3,
     "metadata": {},
     "output_type": "execute_result"
    }
   ],
   "source": [
    "r = df[\"sex-\"].value_counts()\n",
    "r"
   ]
  },
  {
   "cell_type": "code",
   "execution_count": 4,
   "metadata": {},
   "outputs": [
    {
     "data": {
      "image/png": "[encoded data removed]",
      "text/plain": [
       "<Figure size 432x288 with 1 Axes>"
      ]
     },
     "metadata": {
      "needs_background": "light"
     },
     "output_type": "display_data"
    }
   ],
   "source": [
    "x = r.index\n",
    "y = r.values\n",
    "\n",
    "plt.figure()\n",
    "plt.bar(x,y)\n",
    "plt.show()"
   ]
  },
  {
   "cell_type": "markdown",
   "metadata": {},
   "source": [
    "2.\n",
    "¿Cuál es el porcentaje de nulos por columna? Usa un pie chart donde incluyáis el porcentaje de cada variable en el interior del quesito. Para eso tendréis que usar el parámetro autopct, aquí algo de documentación. "
   ]
  },
  {
   "cell_type": "code",
   "execution_count": 5,
   "metadata": {},
   "outputs": [
    {
     "data": {
      "text/plain": [
       "case-number         1\n",
       "unnamed:-0          0\n",
       "year                0\n",
       "type                4\n",
       "country            40\n",
       "area              408\n",
       "location          488\n",
       "activity          511\n",
       "name              200\n",
       "sex-              550\n",
       "age              2666\n",
       "time             3180\n",
       "species-         2705\n",
       "href                0\n",
       "case-number.2       0\n",
       "dtype: int64"
      ]
     },
     "execution_count": 5,
     "metadata": {},
     "output_type": "execute_result"
    }
   ],
   "source": [
    "nulos = df.isnull().sum()\n",
    "nulos"
   ]
  },
  {
   "cell_type": "code",
   "execution_count": 6,
   "metadata": {},
   "outputs": [
    {
     "data": {
      "image/png": "[encoded data removed]",
      "text/plain": [
       "<Figure size 432x288 with 1 Axes>"
      ]
     },
     "metadata": {},
     "output_type": "display_data"
    }
   ],
   "source": [
    "x = nulos.values\n",
    "labels = nulos.index\n",
    "\n",
    "plt.figure()\n",
    "plt.pie(x,labels = labels,autopct=\"%1.2f%%\")\n",
    "plt.show()\n",
    "\n",
    "#QUEREMOS PODER VER LA LEYENDA\n"
   ]
  },
  {
   "cell_type": "markdown",
   "metadata": {},
   "source": [
    "3.\n",
    "¿Cuál es el número total de valores únicos de cada una de las columnas categóricas del DataFrame? "
   ]
  },
  {
   "cell_type": "code",
   "execution_count": 7,
   "metadata": {},
   "outputs": [
    {
     "data": {
      "text/html": [
       "<div>\n",
       "<style scoped>\n",
       "    .dataframe tbody tr th:only-of-type {\n",
       "        vertical-align: middle;\n",
       "    }\n",
       "\n",
       "    .dataframe tbody tr th {\n",
       "        vertical-align: top;\n",
       "    }\n",
       "\n",
       "    .dataframe thead th {\n",
       "        text-align: right;\n",
       "    }\n",
       "</style>\n",
       "<table border=\"1\" class=\"dataframe\">\n",
       "  <thead>\n",
       "    <tr style=\"text-align: right;\">\n",
       "      <th></th>\n",
       "      <th>case-number</th>\n",
       "      <th>type</th>\n",
       "      <th>country</th>\n",
       "      <th>area</th>\n",
       "      <th>location</th>\n",
       "      <th>activity</th>\n",
       "      <th>name</th>\n",
       "      <th>sex-</th>\n",
       "      <th>age</th>\n",
       "      <th>time</th>\n",
       "      <th>species-</th>\n",
       "      <th>href</th>\n",
       "      <th>case-number.2</th>\n",
       "    </tr>\n",
       "  </thead>\n",
       "  <tbody>\n",
       "    <tr>\n",
       "      <th>count</th>\n",
       "      <td>6113</td>\n",
       "      <td>6110</td>\n",
       "      <td>6074</td>\n",
       "      <td>5706</td>\n",
       "      <td>5626</td>\n",
       "      <td>5603</td>\n",
       "      <td>5914</td>\n",
       "      <td>5564</td>\n",
       "      <td>3448</td>\n",
       "      <td>2934</td>\n",
       "      <td>3409</td>\n",
       "      <td>6114</td>\n",
       "      <td>6114</td>\n",
       "    </tr>\n",
       "    <tr>\n",
       "      <th>unique</th>\n",
       "      <td>6113</td>\n",
       "      <td>8</td>\n",
       "      <td>201</td>\n",
       "      <td>791</td>\n",
       "      <td>4020</td>\n",
       "      <td>1484</td>\n",
       "      <td>5118</td>\n",
       "      <td>6</td>\n",
       "      <td>156</td>\n",
       "      <td>366</td>\n",
       "      <td>1529</td>\n",
       "      <td>6099</td>\n",
       "      <td>6114</td>\n",
       "    </tr>\n",
       "    <tr>\n",
       "      <th>top</th>\n",
       "      <td>2018.06.25</td>\n",
       "      <td>Unprovoked</td>\n",
       "      <td>USA</td>\n",
       "      <td>Florida</td>\n",
       "      <td>New Smyrna Beach, Volusia County</td>\n",
       "      <td>Surfing</td>\n",
       "      <td>male</td>\n",
       "      <td>M</td>\n",
       "      <td>17</td>\n",
       "      <td>Afternoon</td>\n",
       "      <td>White shark</td>\n",
       "      <td>http://sharkattackfile.net/spreadsheets/pdf_di...</td>\n",
       "      <td>2018.06.25</td>\n",
       "    </tr>\n",
       "    <tr>\n",
       "      <th>freq</th>\n",
       "      <td>1</td>\n",
       "      <td>4438</td>\n",
       "      <td>2200</td>\n",
       "      <td>1025</td>\n",
       "      <td>162</td>\n",
       "      <td>966</td>\n",
       "      <td>511</td>\n",
       "      <td>4939</td>\n",
       "      <td>154</td>\n",
       "      <td>183</td>\n",
       "      <td>161</td>\n",
       "      <td>4</td>\n",
       "      <td>1</td>\n",
       "    </tr>\n",
       "  </tbody>\n",
       "</table>\n",
       "</div>"
      ],
      "text/plain": [
       "       case-number        type country     area  \\\n",
       "count         6113        6110    6074     5706   \n",
       "unique        6113           8     201      791   \n",
       "top     2018.06.25  Unprovoked     USA  Florida   \n",
       "freq             1        4438    2200     1025   \n",
       "\n",
       "                                location activity  name  sex-   age  \\\n",
       "count                               5626     5603  5914  5564  3448   \n",
       "unique                              4020     1484  5118     6   156   \n",
       "top     New Smyrna Beach, Volusia County  Surfing  male     M    17   \n",
       "freq                                 162      966   511  4939   154   \n",
       "\n",
       "             time     species-  \\\n",
       "count        2934         3409   \n",
       "unique        366         1529   \n",
       "top     Afternoon  White shark   \n",
       "freq          183          161   \n",
       "\n",
       "                                                     href case-number.2  \n",
       "count                                                6114          6114  \n",
       "unique                                               6099          6114  \n",
       "top     http://sharkattackfile.net/spreadsheets/pdf_di...    2018.06.25  \n",
       "freq                                                    4             1  "
      ]
     },
     "execution_count": 7,
     "metadata": {},
     "output_type": "execute_result"
    }
   ],
   "source": [
    "df.describe(include = object)"
   ]
  },
  {
   "cell_type": "code",
   "execution_count": 32,
   "metadata": {},
   "outputs": [
    {
     "data": {
      "text/plain": [
       "case-number      6113\n",
       "type                8\n",
       "country           201\n",
       "area              791\n",
       "location         4020\n",
       "activity         1484\n",
       "name             5118\n",
       "sex-                6\n",
       "age               156\n",
       "time              366\n",
       "species-         1529\n",
       "href             6099\n",
       "case-number.2    6114\n",
       "Name: unique, dtype: object"
      ]
     },
     "execution_count": 32,
     "metadata": {},
     "output_type": "execute_result"
    }
   ],
   "source": [
    "# mostramos solo el registro de unique:\n",
    "d = df.describe(include = object)\n",
    "d.loc['unique'] "
   ]
  },
  {
   "cell_type": "markdown",
   "metadata": {},
   "source": [
    "4.\n",
    "Filtrad los datos para quedarnos solo con los datos de USA.\n",
    "¿Cuántos ataques de tiburones hubo en USA a lo largo del tiempo? Muestra solo los que hayan ocurrido del 2000 en adelante.\n",
    "En función del tipo, ¿cuántos ataques de tiburones de cada tipo hubo en USA? Muestra los resultados en un gráfico de línea. "
   ]
  },
  {
   "cell_type": "code",
   "execution_count": 9,
   "metadata": {},
   "outputs": [
    {
     "data": {
      "text/plain": [
       "959"
      ]
     },
     "execution_count": 9,
     "metadata": {},
     "output_type": "execute_result"
    }
   ],
   "source": [
    "df[(df[\"country\"] == \"USA\") & (df[\"year\"] >2000)].shape[0]\n"
   ]
  },
  {
   "cell_type": "markdown",
   "metadata": {},
   "source": [
    "5.\n",
    "Filtrad los datos para Spain:\n",
    "¿Cuántos ataques de tiburones hubo en España a lo largo del tiempo? Muestra solo los que hayan ocurrido del 2000 en adelante.\n",
    "En función del tipo, ¿cuántos ataques de cada tipo de tiburones hubo en España? Muestra los resultados en un gráfico de línea. "
   ]
  },
  {
   "cell_type": "code",
   "execution_count": null,
   "metadata": {},
   "outputs": [],
   "source": []
  }
 ],
 "metadata": {
  "kernelspec": {
   "display_name": "Python 3.9.7 ('base')",
   "language": "python",
   "name": "python3"
  },
  "language_info": {
   "codemirror_mode": {
    "name": "ipython",
    "version": 3
   },
   "file_extension": ".py",
   "mimetype": "text/x-python",
   "name": "python",
   "nbconvert_exporter": "python",
   "pygments_lexer": "ipython3",
   "version": "3.9.7"
  },
  "orig_nbformat": 4,
  "vscode": {
   "interpreter": {
    "hash": "40d3a090f54c6569ab1632332b64b2c03c39dcf918b08424e98f38b5ae0af88f"
   }
  }
 },
 "nbformat": 4,
 "nbformat_minor": 2
}
