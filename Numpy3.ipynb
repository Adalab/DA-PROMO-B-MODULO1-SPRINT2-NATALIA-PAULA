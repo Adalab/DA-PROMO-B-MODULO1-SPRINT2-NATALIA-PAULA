{
 "cells": [
  {
   "cell_type": "markdown",
   "metadata": {},
   "source": [
    "EJERCICIO 1\n",
    "Cread un array de tres dimensiones de 2 matrices, 3 filas y 5 columnas cuyos valores solo tengan 1 decimales. \n",
    "Sobre el array creado anteriormente, extraed: "
   ]
  },
  {
   "cell_type": "code",
   "execution_count": 2,
   "metadata": {},
   "outputs": [],
   "source": [
    "import numpy as np"
   ]
  },
  {
   "cell_type": "code",
   "execution_count": 3,
   "metadata": {},
   "outputs": [
    {
     "data": {
      "text/plain": [
       "array([[[0.22199317, 0.87073231, 0.20671916, 0.91861091, 0.48841119],\n",
       "        [0.61174386, 0.76590786, 0.51841799, 0.2968005 , 0.18772123],\n",
       "        [0.08074127, 0.7384403 , 0.44130922, 0.15830987, 0.87993703]],\n",
       "\n",
       "       [[0.27408646, 0.41423502, 0.29607993, 0.62878791, 0.57983781],\n",
       "        [0.5999292 , 0.26581912, 0.28468588, 0.25358821, 0.32756395],\n",
       "        [0.1441643 , 0.16561286, 0.96393053, 0.96022672, 0.18841466]]])"
      ]
     },
     "execution_count": 3,
     "metadata": {},
     "output_type": "execute_result"
    }
   ],
   "source": [
    "np.random.seed(5)\n",
    "array1 = np.random.rand(2,3,5)\n",
    "array1 "
   ]
  },
  {
   "cell_type": "code",
   "execution_count": 10,
   "metadata": {},
   "outputs": [
    {
     "data": {
      "text/plain": [
       "array([[[0.2, 0.9, 0.2, 0.9, 0.5],\n",
       "        [0.6, 0.8, 0.5, 0.3, 0.2],\n",
       "        [0.1, 0.7, 0.4, 0.2, 0.9]],\n",
       "\n",
       "       [[0.3, 0.4, 0.3, 0.6, 0.6],\n",
       "        [0.6, 0.3, 0.3, 0.3, 0.3],\n",
       "        [0.1, 0.2, 1. , 1. , 0.2]]])"
      ]
     },
     "execution_count": 10,
     "metadata": {},
     "output_type": "execute_result"
    }
   ],
   "source": [
    "array1=np.round(array1,1)\n",
    "array1"
   ]
  },
  {
   "cell_type": "markdown",
   "metadata": {},
   "source": [
    "EJERCICIO 2 Calculad la media del array y almacenarlos en una variable. Redondead a un decimal. "
   ]
  },
  {
   "cell_type": "markdown",
   "metadata": {},
   "source": []
  },
  {
   "cell_type": "code",
   "execution_count": 5,
   "metadata": {},
   "outputs": [
    {
     "data": {
      "text/plain": [
       "0.5"
      ]
     },
     "execution_count": 5,
     "metadata": {},
     "output_type": "execute_result"
    }
   ],
   "source": [
    "media=round(np.mean(array1),1)\n",
    "media"
   ]
  },
  {
   "cell_type": "markdown",
   "metadata": {},
   "source": [
    "EJERCICIO 3 Calculad el valor máximo del array y almacenarlos en una variable. Redondead a un decimal. "
   ]
  },
  {
   "cell_type": "code",
   "execution_count": 6,
   "metadata": {},
   "outputs": [
    {
     "data": {
      "text/plain": [
       "1.0"
      ]
     },
     "execution_count": 6,
     "metadata": {},
     "output_type": "execute_result"
    }
   ],
   "source": [
    "maximo=round(np.max(array1),1)\n",
    "maximo"
   ]
  },
  {
   "cell_type": "markdown",
   "metadata": {},
   "source": [
    "EJERCICIO 4\n",
    "Calculad el valor mínimo del array y almacenarlos en una variable. Redondead a un decimal. "
   ]
  },
  {
   "cell_type": "code",
   "execution_count": 7,
   "metadata": {},
   "outputs": [
    {
     "data": {
      "text/plain": [
       "0.1"
      ]
     },
     "execution_count": 7,
     "metadata": {},
     "output_type": "execute_result"
    }
   ],
   "source": [
    "minimo=round(np.min(array1),1)\n",
    "minimo"
   ]
  },
  {
   "cell_type": "markdown",
   "metadata": {},
   "source": [
    "EJERCICIO 5\n",
    "\n",
    "Cread un array vacío con la misma forma y dimensiones que el array creado anteriormente.\n",
    "Vamos a reemplazar los valores de la matriz vacía que nos acabamos de crear pero basándonos en los valores del primer array bajo las siguientes condiciones:\n",
    "Si el valor del array es igual que la media, se reemplaza por \"A\".\n",
    "Si el valor del array es mayor que la media, se reemplaza por \"B\".\n",
    "Si el valor del array es menor que la media, se reemplaza por \"C\".\n",
    "Si el valor es igual que el máximo, se reemplaza por \"D\".\n",
    "Si el valor es igual que el mínimo, se reemplaza por \"E\". \n"
   ]
  },
  {
   "cell_type": "code",
   "execution_count": 19,
   "metadata": {},
   "outputs": [
    {
     "data": {
      "text/plain": [
       "array([[['', '', '', '', ''],\n",
       "        ['', '', '', '', ''],\n",
       "        ['', '', '', '', '']],\n",
       "\n",
       "       [['', '', '', '', ''],\n",
       "        ['', '', '', '', ''],\n",
       "        ['', '', '', '', '']]], dtype='<U1')"
      ]
     },
     "execution_count": 19,
     "metadata": {},
     "output_type": "execute_result"
    }
   ],
   "source": [
    "array_v=np.empty_like(array1,str)\n",
    "array_v"
   ]
  },
  {
   "cell_type": "code",
   "execution_count": 21,
   "metadata": {},
   "outputs": [
    {
     "name": "stdout",
     "output_type": "stream",
     "text": [
      "[[['' '' '' '' '']\n",
      "  ['' '' '' '' '']\n",
      "  ['' '' '' '' '']]\n",
      "\n",
      " [['' '' '' '' '']\n",
      "  ['' '' '' '' '']\n",
      "  ['' '' '' '' '']]]\n"
     ]
    }
   ],
   "source": [
    "for x in range(0,len(array_v)):\n",
    "    for y in range(0,x):\n",
    "        for z in range(0,y):\n",
    "                        \n",
    "            if array1[x][y][z] == media:\n",
    "                array_v[x][y][z]=\"A\"\n",
    "                \n",
    "            elif array1[x][y][z]> media:\n",
    "                array_v[x][y][z]=\"B\"\n",
    "                \n",
    "            elif array1[x][y][z]< media:\n",
    "                array_v[x][y][z]=\"C\"\n",
    "                \n",
    "            elif array1[x][y][z]== maximo:\n",
    "                array_v[x][y][z]=\"D\"\n",
    "                \n",
    "            elif array1[x][y][z]== minimo:\n",
    "                array_v[x][y][z]=\"E\"\n",
    "                \n",
    "print(array_v)"
   ]
  },
  {
   "cell_type": "code",
   "execution_count": null,
   "metadata": {},
   "outputs": [],
   "source": []
  }
 ],
 "metadata": {
  "kernelspec": {
   "display_name": "Python 3.9.7 ('base')",
   "language": "python",
   "name": "python3"
  },
  "language_info": {
   "codemirror_mode": {
    "name": "ipython",
    "version": 3
   },
   "file_extension": ".py",
   "mimetype": "text/x-python",
   "name": "python",
   "nbconvert_exporter": "python",
   "pygments_lexer": "ipython3",
   "version": "3.9.7"
  },
  "orig_nbformat": 4,
  "vscode": {
   "interpreter": {
    "hash": "40d3a090f54c6569ab1632332b64b2c03c39dcf918b08424e98f38b5ae0af88f"
   }
  }
 },
 "nbformat": 4,
 "nbformat_minor": 2
}
