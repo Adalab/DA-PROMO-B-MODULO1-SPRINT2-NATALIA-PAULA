{
 "cells": [
  {
   "cell_type": "code",
   "execution_count": 1,
   "metadata": {},
   "outputs": [],
   "source": [
    "import pandas as pd\n",
    "import numpy as np\n",
    "import seaborn as sns\n",
    "import matplotlib.pyplot as plt\n"
   ]
  },
  {
   "cell_type": "code",
   "execution_count": 2,
   "metadata": {},
   "outputs": [],
   "source": [
    "from scipy.stats import skew\n",
    "import scipy.stats as st"
   ]
  },
  {
   "cell_type": "markdown",
   "metadata": {},
   "source": [
    " *NOTA IMPORTANTE!!!*\n",
    "\n",
    "Para este ejercicio se ha cogido un df de los crímenes en los Angeles entre el 2010 y 2017. Debido a la cantidad de datos que contenia (más de un millón y medio), pesaba demasiado y no se podía subir a git. De esta manera, se ha tenido que disminuir el df para poder guardarlo en el repositorio de git. \n",
    "\n",
    "    Para ello hemos:\n",
    "        1. filtrado los datos y nos hemos quedado con solo aquellos datos del 2017\n",
    "        2. eliminado todas las filas que contenían al menos, 1 nan (no es lo que más nos gusta pero el objetivo principal, as ser un archivo académico, era poder subirlo a git para poder trabajr con él desde diferentes dispositivos)\n"
   ]
  },
  {
   "cell_type": "code",
   "execution_count": 3,
   "metadata": {},
   "outputs": [],
   "source": [
    "# df = pd.read_csv('Crime_data_2010_2017.csv', encoding='ISO-8859-1')"
   ]
  },
  {
   "cell_type": "code",
   "execution_count": 4,
   "metadata": {},
   "outputs": [],
   "source": [
    "# def año (date=df['Date Occurred']):\n",
    "#     return date.split('/')[2]\n"
   ]
  },
  {
   "cell_type": "code",
   "execution_count": 5,
   "metadata": {},
   "outputs": [],
   "source": [
    "#df['Year'] = df['Date Occurred'].apply(año)"
   ]
  },
  {
   "cell_type": "code",
   "execution_count": 6,
   "metadata": {},
   "outputs": [],
   "source": [
    "#df.head()"
   ]
  },
  {
   "cell_type": "code",
   "execution_count": 7,
   "metadata": {},
   "outputs": [],
   "source": [
    "#pd.to_numeric(df.Year)"
   ]
  },
  {
   "cell_type": "code",
   "execution_count": 8,
   "metadata": {},
   "outputs": [],
   "source": [
    "#df2 = df[df['Year']=='2017']"
   ]
  },
  {
   "cell_type": "code",
   "execution_count": 9,
   "metadata": {},
   "outputs": [],
   "source": [
    "#df2.to_csv('Crime_Data_2017.csv')"
   ]
  },
  {
   "cell_type": "code",
   "execution_count": 10,
   "metadata": {},
   "outputs": [],
   "source": [
    "df = pd.read_csv('Crime_Data_2017.csv')"
   ]
  },
  {
   "cell_type": "code",
   "execution_count": 11,
   "metadata": {},
   "outputs": [],
   "source": [
    "# df.dropna(how='any', inplace=True)"
   ]
  },
  {
   "cell_type": "code",
   "execution_count": 12,
   "metadata": {},
   "outputs": [],
   "source": [
    "# df.to_csv('Crime_Data_2017.csv')"
   ]
  },
  {
   "cell_type": "code",
   "execution_count": 13,
   "metadata": {},
   "outputs": [
    {
     "data": {
      "text/html": [
       "<div>\n",
       "<style scoped>\n",
       "    .dataframe tbody tr th:only-of-type {\n",
       "        vertical-align: middle;\n",
       "    }\n",
       "\n",
       "    .dataframe tbody tr th {\n",
       "        vertical-align: top;\n",
       "    }\n",
       "\n",
       "    .dataframe thead th {\n",
       "        text-align: right;\n",
       "    }\n",
       "</style>\n",
       "<table border=\"1\" class=\"dataframe\">\n",
       "  <thead>\n",
       "    <tr style=\"text-align: right;\">\n",
       "      <th></th>\n",
       "      <th>Unnamed: 0</th>\n",
       "      <th>Unnamed: 0.1</th>\n",
       "      <th>DR Number</th>\n",
       "      <th>Date Reported</th>\n",
       "      <th>Date Occurred</th>\n",
       "      <th>Time Occurred</th>\n",
       "      <th>Area ID</th>\n",
       "      <th>Area Name</th>\n",
       "      <th>Reporting District</th>\n",
       "      <th>Crime Code</th>\n",
       "      <th>...</th>\n",
       "      <th>Premise Code</th>\n",
       "      <th>Premise Description</th>\n",
       "      <th>Weapon Used Code</th>\n",
       "      <th>Weapon Description</th>\n",
       "      <th>Status Code</th>\n",
       "      <th>Status Description</th>\n",
       "      <th>Address</th>\n",
       "      <th>Cross Street</th>\n",
       "      <th>Location</th>\n",
       "      <th>Year</th>\n",
       "    </tr>\n",
       "  </thead>\n",
       "  <tbody>\n",
       "    <tr>\n",
       "      <th>0</th>\n",
       "      <td>30</td>\n",
       "      <td>1428639</td>\n",
       "      <td>170104918</td>\n",
       "      <td>01/16/2017</td>\n",
       "      <td>01/16/2017</td>\n",
       "      <td>820</td>\n",
       "      <td>1</td>\n",
       "      <td>Central</td>\n",
       "      <td>111</td>\n",
       "      <td>624</td>\n",
       "      <td>...</td>\n",
       "      <td>102.0</td>\n",
       "      <td>SIDEWALK</td>\n",
       "      <td>308.0</td>\n",
       "      <td>STICK</td>\n",
       "      <td>IC</td>\n",
       "      <td>Invest Cont</td>\n",
       "      <td>ARCADIA</td>\n",
       "      <td>SPRING</td>\n",
       "      <td>(34.0565, -118.2411)</td>\n",
       "      <td>2017</td>\n",
       "    </tr>\n",
       "    <tr>\n",
       "      <th>1</th>\n",
       "      <td>44</td>\n",
       "      <td>1429591</td>\n",
       "      <td>170100514</td>\n",
       "      <td>01/07/2017</td>\n",
       "      <td>01/07/2017</td>\n",
       "      <td>1040</td>\n",
       "      <td>1</td>\n",
       "      <td>Central</td>\n",
       "      <td>159</td>\n",
       "      <td>230</td>\n",
       "      <td>...</td>\n",
       "      <td>102.0</td>\n",
       "      <td>SIDEWALK</td>\n",
       "      <td>500.0</td>\n",
       "      <td>UNKNOWN WEAPON/OTHER WEAPON</td>\n",
       "      <td>IC</td>\n",
       "      <td>Invest Cont</td>\n",
       "      <td>7TH</td>\n",
       "      <td>DECATUR</td>\n",
       "      <td>(34.0348, -118.235)</td>\n",
       "      <td>2017</td>\n",
       "    </tr>\n",
       "    <tr>\n",
       "      <th>2</th>\n",
       "      <td>57</td>\n",
       "      <td>1429604</td>\n",
       "      <td>170100537</td>\n",
       "      <td>01/16/2017</td>\n",
       "      <td>01/16/2017</td>\n",
       "      <td>5</td>\n",
       "      <td>1</td>\n",
       "      <td>Central</td>\n",
       "      <td>162</td>\n",
       "      <td>230</td>\n",
       "      <td>...</td>\n",
       "      <td>102.0</td>\n",
       "      <td>SIDEWALK</td>\n",
       "      <td>307.0</td>\n",
       "      <td>VEHICLE</td>\n",
       "      <td>AO</td>\n",
       "      <td>Adult Other</td>\n",
       "      <td>8TH                          ST</td>\n",
       "      <td>OLIVE                        ST</td>\n",
       "      <td>(34.0459, -118.2579)</td>\n",
       "      <td>2017</td>\n",
       "    </tr>\n",
       "    <tr>\n",
       "      <th>3</th>\n",
       "      <td>60</td>\n",
       "      <td>1429607</td>\n",
       "      <td>170100540</td>\n",
       "      <td>01/16/2017</td>\n",
       "      <td>01/16/2017</td>\n",
       "      <td>1955</td>\n",
       "      <td>1</td>\n",
       "      <td>Central</td>\n",
       "      <td>124</td>\n",
       "      <td>230</td>\n",
       "      <td>...</td>\n",
       "      <td>102.0</td>\n",
       "      <td>SIDEWALK</td>\n",
       "      <td>200.0</td>\n",
       "      <td>KNIFE WITH BLADE 6INCHES OR LESS</td>\n",
       "      <td>AA</td>\n",
       "      <td>Adult Arrest</td>\n",
       "      <td>2ND</td>\n",
       "      <td>MAIN</td>\n",
       "      <td>(34.0514, -118.2451)</td>\n",
       "      <td>2017</td>\n",
       "    </tr>\n",
       "    <tr>\n",
       "      <th>4</th>\n",
       "      <td>61</td>\n",
       "      <td>1429608</td>\n",
       "      <td>170100541</td>\n",
       "      <td>01/16/2017</td>\n",
       "      <td>01/16/2017</td>\n",
       "      <td>2315</td>\n",
       "      <td>1</td>\n",
       "      <td>Central</td>\n",
       "      <td>176</td>\n",
       "      <td>626</td>\n",
       "      <td>...</td>\n",
       "      <td>102.0</td>\n",
       "      <td>SIDEWALK</td>\n",
       "      <td>400.0</td>\n",
       "      <td>STRONG-ARM (HANDS, FIST, FEET OR BODILY FORCE)</td>\n",
       "      <td>AO</td>\n",
       "      <td>Adult Other</td>\n",
       "      <td>8TH</td>\n",
       "      <td>WALL</td>\n",
       "      <td>(34.0401, -118.2504)</td>\n",
       "      <td>2017</td>\n",
       "    </tr>\n",
       "  </tbody>\n",
       "</table>\n",
       "<p>5 rows × 25 columns</p>\n",
       "</div>"
      ],
      "text/plain": [
       "   Unnamed: 0  Unnamed: 0.1  DR Number Date Reported Date Occurred  \\\n",
       "0          30       1428639  170104918    01/16/2017    01/16/2017   \n",
       "1          44       1429591  170100514    01/07/2017    01/07/2017   \n",
       "2          57       1429604  170100537    01/16/2017    01/16/2017   \n",
       "3          60       1429607  170100540    01/16/2017    01/16/2017   \n",
       "4          61       1429608  170100541    01/16/2017    01/16/2017   \n",
       "\n",
       "   Time Occurred  Area ID Area Name  Reporting District  Crime Code  ...  \\\n",
       "0            820        1   Central                 111         624  ...   \n",
       "1           1040        1   Central                 159         230  ...   \n",
       "2              5        1   Central                 162         230  ...   \n",
       "3           1955        1   Central                 124         230  ...   \n",
       "4           2315        1   Central                 176         626  ...   \n",
       "\n",
       "  Premise Code Premise Description  Weapon Used Code  \\\n",
       "0        102.0            SIDEWALK             308.0   \n",
       "1        102.0            SIDEWALK             500.0   \n",
       "2        102.0            SIDEWALK             307.0   \n",
       "3        102.0            SIDEWALK             200.0   \n",
       "4        102.0            SIDEWALK             400.0   \n",
       "\n",
       "                               Weapon Description Status Code  \\\n",
       "0                                           STICK          IC   \n",
       "1                     UNKNOWN WEAPON/OTHER WEAPON          IC   \n",
       "2                                         VEHICLE          AO   \n",
       "3                KNIFE WITH BLADE 6INCHES OR LESS          AA   \n",
       "4  STRONG-ARM (HANDS, FIST, FEET OR BODILY FORCE)          AO   \n",
       "\n",
       "   Status Description                          Address  \\\n",
       "0         Invest Cont                          ARCADIA   \n",
       "1         Invest Cont                              7TH   \n",
       "2         Adult Other  8TH                          ST   \n",
       "3        Adult Arrest                              2ND   \n",
       "4         Adult Other                              8TH   \n",
       "\n",
       "                      Cross Street             Location   Year  \n",
       "0                           SPRING  (34.0565, -118.2411)  2017  \n",
       "1                          DECATUR   (34.0348, -118.235)  2017  \n",
       "2  OLIVE                        ST  (34.0459, -118.2579)  2017  \n",
       "3                             MAIN  (34.0514, -118.2451)  2017  \n",
       "4                             WALL  (34.0401, -118.2504)  2017  \n",
       "\n",
       "[5 rows x 25 columns]"
      ]
     },
     "execution_count": 13,
     "metadata": {},
     "output_type": "execute_result"
    }
   ],
   "source": [
    "df.head()"
   ]
  },
  {
   "cell_type": "code",
   "execution_count": 14,
   "metadata": {},
   "outputs": [
    {
     "data": {
      "text/plain": [
       "(12961, 25)"
      ]
     },
     "execution_count": 14,
     "metadata": {},
     "output_type": "execute_result"
    }
   ],
   "source": [
    "df.shape"
   ]
  },
  {
   "cell_type": "code",
   "execution_count": 15,
   "metadata": {},
   "outputs": [
    {
     "name": "stdout",
     "output_type": "stream",
     "text": [
      "<class 'pandas.core.frame.DataFrame'>\n",
      "RangeIndex: 12961 entries, 0 to 12960\n",
      "Data columns (total 25 columns):\n",
      " #   Column                  Non-Null Count  Dtype  \n",
      "---  ------                  --------------  -----  \n",
      " 0   Unnamed: 0              12961 non-null  int64  \n",
      " 1   Unnamed: 0.1            12961 non-null  int64  \n",
      " 2   DR Number               12961 non-null  int64  \n",
      " 3   Date Reported           12961 non-null  object \n",
      " 4   Date Occurred           12961 non-null  object \n",
      " 5   Time Occurred           12961 non-null  int64  \n",
      " 6   Area ID                 12961 non-null  int64  \n",
      " 7   Area Name               12961 non-null  object \n",
      " 8   Reporting District      12961 non-null  int64  \n",
      " 9   Crime Code              12961 non-null  int64  \n",
      " 10  Crime Code Description  12961 non-null  object \n",
      " 11  MO Codes                12961 non-null  object \n",
      " 12  Victim Age              12961 non-null  float64\n",
      " 13  Victim Sex              12961 non-null  object \n",
      " 14  Victim Descent          12961 non-null  object \n",
      " 15  Premise Code            12961 non-null  float64\n",
      " 16  Premise Description     12961 non-null  object \n",
      " 17  Weapon Used Code        12961 non-null  float64\n",
      " 18  Weapon Description      12961 non-null  object \n",
      " 19  Status Code             12961 non-null  object \n",
      " 20  Status Description      12961 non-null  object \n",
      " 21  Address                 12961 non-null  object \n",
      " 22  Cross Street            12961 non-null  object \n",
      " 23  Location                12961 non-null  object \n",
      " 24  Year                    12961 non-null  int64  \n",
      "dtypes: float64(3), int64(8), object(14)\n",
      "memory usage: 2.5+ MB\n"
     ]
    }
   ],
   "source": [
    "df.info()"
   ]
  },
  {
   "cell_type": "code",
   "execution_count": 16,
   "metadata": {},
   "outputs": [
    {
     "data": {
      "text/html": [
       "<div>\n",
       "<style scoped>\n",
       "    .dataframe tbody tr th:only-of-type {\n",
       "        vertical-align: middle;\n",
       "    }\n",
       "\n",
       "    .dataframe tbody tr th {\n",
       "        vertical-align: top;\n",
       "    }\n",
       "\n",
       "    .dataframe thead th {\n",
       "        text-align: right;\n",
       "    }\n",
       "</style>\n",
       "<table border=\"1\" class=\"dataframe\">\n",
       "  <thead>\n",
       "    <tr style=\"text-align: right;\">\n",
       "      <th></th>\n",
       "      <th>Unnamed: 0</th>\n",
       "      <th>Unnamed: 0.1</th>\n",
       "      <th>DR Number</th>\n",
       "      <th>Time Occurred</th>\n",
       "      <th>Area ID</th>\n",
       "      <th>Reporting District</th>\n",
       "      <th>Crime Code</th>\n",
       "      <th>Victim Age</th>\n",
       "      <th>Premise Code</th>\n",
       "      <th>Weapon Used Code</th>\n",
       "      <th>Year</th>\n",
       "    </tr>\n",
       "  </thead>\n",
       "  <tbody>\n",
       "    <tr>\n",
       "      <th>count</th>\n",
       "      <td>12961.000000</td>\n",
       "      <td>1.296100e+04</td>\n",
       "      <td>1.296100e+04</td>\n",
       "      <td>12961.000000</td>\n",
       "      <td>12961.000000</td>\n",
       "      <td>12961.000000</td>\n",
       "      <td>12961.000000</td>\n",
       "      <td>12961.000000</td>\n",
       "      <td>12961.000000</td>\n",
       "      <td>12961.000000</td>\n",
       "      <td>12961.0</td>\n",
       "    </tr>\n",
       "    <tr>\n",
       "      <th>mean</th>\n",
       "      <td>76028.337242</td>\n",
       "      <td>1.506235e+06</td>\n",
       "      <td>1.710270e+08</td>\n",
       "      <td>1358.163490</td>\n",
       "      <td>10.150837</td>\n",
       "      <td>1062.180387</td>\n",
       "      <td>426.164879</td>\n",
       "      <td>34.937273</td>\n",
       "      <td>135.688527</td>\n",
       "      <td>339.605509</td>\n",
       "      <td>2017.0</td>\n",
       "    </tr>\n",
       "    <tr>\n",
       "      <th>std</th>\n",
       "      <td>46549.477653</td>\n",
       "      <td>4.737261e+04</td>\n",
       "      <td>6.459390e+05</td>\n",
       "      <td>688.507205</td>\n",
       "      <td>6.416114</td>\n",
       "      <td>637.827749</td>\n",
       "      <td>236.009918</td>\n",
       "      <td>14.752338</td>\n",
       "      <td>120.693282</td>\n",
       "      <td>127.825638</td>\n",
       "      <td>0.0</td>\n",
       "    </tr>\n",
       "    <tr>\n",
       "      <th>min</th>\n",
       "      <td>30.000000</td>\n",
       "      <td>1.428639e+06</td>\n",
       "      <td>1.701005e+08</td>\n",
       "      <td>1.000000</td>\n",
       "      <td>1.000000</td>\n",
       "      <td>101.000000</td>\n",
       "      <td>110.000000</td>\n",
       "      <td>10.000000</td>\n",
       "      <td>101.000000</td>\n",
       "      <td>101.000000</td>\n",
       "      <td>2017.0</td>\n",
       "    </tr>\n",
       "    <tr>\n",
       "      <th>25%</th>\n",
       "      <td>31924.000000</td>\n",
       "      <td>1.461471e+06</td>\n",
       "      <td>1.704009e+08</td>\n",
       "      <td>900.000000</td>\n",
       "      <td>4.000000</td>\n",
       "      <td>411.000000</td>\n",
       "      <td>220.000000</td>\n",
       "      <td>23.000000</td>\n",
       "      <td>101.000000</td>\n",
       "      <td>218.000000</td>\n",
       "      <td>2017.0</td>\n",
       "    </tr>\n",
       "    <tr>\n",
       "      <th>50%</th>\n",
       "      <td>79695.000000</td>\n",
       "      <td>1.509243e+06</td>\n",
       "      <td>1.712009e+08</td>\n",
       "      <td>1500.000000</td>\n",
       "      <td>12.000000</td>\n",
       "      <td>1203.000000</td>\n",
       "      <td>236.000000</td>\n",
       "      <td>32.000000</td>\n",
       "      <td>102.000000</td>\n",
       "      <td>400.000000</td>\n",
       "      <td>2017.0</td>\n",
       "    </tr>\n",
       "    <tr>\n",
       "      <th>75%</th>\n",
       "      <td>117112.000000</td>\n",
       "      <td>1.547937e+06</td>\n",
       "      <td>1.715180e+08</td>\n",
       "      <td>1930.000000</td>\n",
       "      <td>15.000000</td>\n",
       "      <td>1595.000000</td>\n",
       "      <td>624.000000</td>\n",
       "      <td>46.000000</td>\n",
       "      <td>102.000000</td>\n",
       "      <td>400.000000</td>\n",
       "      <td>2017.0</td>\n",
       "    </tr>\n",
       "    <tr>\n",
       "      <th>max</th>\n",
       "      <td>151518.000000</td>\n",
       "      <td>1.584246e+06</td>\n",
       "      <td>1.799089e+08</td>\n",
       "      <td>2359.000000</td>\n",
       "      <td>21.000000</td>\n",
       "      <td>2189.000000</td>\n",
       "      <td>956.000000</td>\n",
       "      <td>99.000000</td>\n",
       "      <td>811.000000</td>\n",
       "      <td>516.000000</td>\n",
       "      <td>2017.0</td>\n",
       "    </tr>\n",
       "  </tbody>\n",
       "</table>\n",
       "</div>"
      ],
      "text/plain": [
       "          Unnamed: 0  Unnamed: 0.1     DR Number  Time Occurred       Area ID  \\\n",
       "count   12961.000000  1.296100e+04  1.296100e+04   12961.000000  12961.000000   \n",
       "mean    76028.337242  1.506235e+06  1.710270e+08    1358.163490     10.150837   \n",
       "std     46549.477653  4.737261e+04  6.459390e+05     688.507205      6.416114   \n",
       "min        30.000000  1.428639e+06  1.701005e+08       1.000000      1.000000   \n",
       "25%     31924.000000  1.461471e+06  1.704009e+08     900.000000      4.000000   \n",
       "50%     79695.000000  1.509243e+06  1.712009e+08    1500.000000     12.000000   \n",
       "75%    117112.000000  1.547937e+06  1.715180e+08    1930.000000     15.000000   \n",
       "max    151518.000000  1.584246e+06  1.799089e+08    2359.000000     21.000000   \n",
       "\n",
       "       Reporting District    Crime Code    Victim Age  Premise Code  \\\n",
       "count        12961.000000  12961.000000  12961.000000  12961.000000   \n",
       "mean          1062.180387    426.164879     34.937273    135.688527   \n",
       "std            637.827749    236.009918     14.752338    120.693282   \n",
       "min            101.000000    110.000000     10.000000    101.000000   \n",
       "25%            411.000000    220.000000     23.000000    101.000000   \n",
       "50%           1203.000000    236.000000     32.000000    102.000000   \n",
       "75%           1595.000000    624.000000     46.000000    102.000000   \n",
       "max           2189.000000    956.000000     99.000000    811.000000   \n",
       "\n",
       "       Weapon Used Code     Year  \n",
       "count      12961.000000  12961.0  \n",
       "mean         339.605509   2017.0  \n",
       "std          127.825638      0.0  \n",
       "min          101.000000   2017.0  \n",
       "25%          218.000000   2017.0  \n",
       "50%          400.000000   2017.0  \n",
       "75%          400.000000   2017.0  \n",
       "max          516.000000   2017.0  "
      ]
     },
     "execution_count": 16,
     "metadata": {},
     "output_type": "execute_result"
    }
   ],
   "source": [
    "df.describe()"
   ]
  },
  {
   "cell_type": "code",
   "execution_count": 17,
   "metadata": {},
   "outputs": [
    {
     "data": {
      "text/html": [
       "<div>\n",
       "<style scoped>\n",
       "    .dataframe tbody tr th:only-of-type {\n",
       "        vertical-align: middle;\n",
       "    }\n",
       "\n",
       "    .dataframe tbody tr th {\n",
       "        vertical-align: top;\n",
       "    }\n",
       "\n",
       "    .dataframe thead th {\n",
       "        text-align: right;\n",
       "    }\n",
       "</style>\n",
       "<table border=\"1\" class=\"dataframe\">\n",
       "  <thead>\n",
       "    <tr style=\"text-align: right;\">\n",
       "      <th></th>\n",
       "      <th>Date Reported</th>\n",
       "      <th>Date Occurred</th>\n",
       "      <th>Area Name</th>\n",
       "      <th>Crime Code Description</th>\n",
       "      <th>MO Codes</th>\n",
       "      <th>Victim Sex</th>\n",
       "      <th>Victim Descent</th>\n",
       "      <th>Premise Description</th>\n",
       "      <th>Weapon Description</th>\n",
       "      <th>Status Code</th>\n",
       "      <th>Status Description</th>\n",
       "      <th>Address</th>\n",
       "      <th>Cross Street</th>\n",
       "      <th>Location</th>\n",
       "    </tr>\n",
       "  </thead>\n",
       "  <tbody>\n",
       "    <tr>\n",
       "      <th>count</th>\n",
       "      <td>12961</td>\n",
       "      <td>12961</td>\n",
       "      <td>12961</td>\n",
       "      <td>12961</td>\n",
       "      <td>12961</td>\n",
       "      <td>12961</td>\n",
       "      <td>12961</td>\n",
       "      <td>12961</td>\n",
       "      <td>12961</td>\n",
       "      <td>12961</td>\n",
       "      <td>12961</td>\n",
       "      <td>12961</td>\n",
       "      <td>12961</td>\n",
       "      <td>12961</td>\n",
       "    </tr>\n",
       "    <tr>\n",
       "      <th>unique</th>\n",
       "      <td>252</td>\n",
       "      <td>252</td>\n",
       "      <td>21</td>\n",
       "      <td>76</td>\n",
       "      <td>10064</td>\n",
       "      <td>3</td>\n",
       "      <td>13</td>\n",
       "      <td>101</td>\n",
       "      <td>63</td>\n",
       "      <td>5</td>\n",
       "      <td>5</td>\n",
       "      <td>2351</td>\n",
       "      <td>2569</td>\n",
       "      <td>6208</td>\n",
       "    </tr>\n",
       "    <tr>\n",
       "      <th>top</th>\n",
       "      <td>08/20/2017</td>\n",
       "      <td>04/23/2017</td>\n",
       "      <td>77th Street</td>\n",
       "      <td>ROBBERY</td>\n",
       "      <td>0416</td>\n",
       "      <td>M</td>\n",
       "      <td>H</td>\n",
       "      <td>STREET</td>\n",
       "      <td>STRONG-ARM (HANDS, FIST, FEET OR BODILY FORCE)</td>\n",
       "      <td>IC</td>\n",
       "      <td>Invest Cont</td>\n",
       "      <td>6TH                          ST</td>\n",
       "      <td>BROADWAY</td>\n",
       "      <td>(0, 0)</td>\n",
       "    </tr>\n",
       "    <tr>\n",
       "      <th>freq</th>\n",
       "      <td>82</td>\n",
       "      <td>86</td>\n",
       "      <td>1361</td>\n",
       "      <td>2959</td>\n",
       "      <td>463</td>\n",
       "      <td>7448</td>\n",
       "      <td>6616</td>\n",
       "      <td>6343</td>\n",
       "      <td>6917</td>\n",
       "      <td>9944</td>\n",
       "      <td>9944</td>\n",
       "      <td>208</td>\n",
       "      <td>262</td>\n",
       "      <td>366</td>\n",
       "    </tr>\n",
       "  </tbody>\n",
       "</table>\n",
       "</div>"
      ],
      "text/plain": [
       "       Date Reported Date Occurred    Area Name Crime Code Description  \\\n",
       "count          12961         12961        12961                  12961   \n",
       "unique           252           252           21                     76   \n",
       "top       08/20/2017    04/23/2017  77th Street                ROBBERY   \n",
       "freq              82            86         1361                   2959   \n",
       "\n",
       "       MO Codes Victim Sex Victim Descent Premise Description  \\\n",
       "count     12961      12961          12961               12961   \n",
       "unique    10064          3             13                 101   \n",
       "top        0416          M              H              STREET   \n",
       "freq        463       7448           6616                6343   \n",
       "\n",
       "                                    Weapon Description Status Code  \\\n",
       "count                                            12961       12961   \n",
       "unique                                              63           5   \n",
       "top     STRONG-ARM (HANDS, FIST, FEET OR BODILY FORCE)          IC   \n",
       "freq                                              6917        9944   \n",
       "\n",
       "       Status Description                          Address Cross Street  \\\n",
       "count               12961                            12961        12961   \n",
       "unique                  5                             2351         2569   \n",
       "top           Invest Cont  6TH                          ST     BROADWAY   \n",
       "freq                 9944                              208          262   \n",
       "\n",
       "       Location   \n",
       "count      12961  \n",
       "unique      6208  \n",
       "top       (0, 0)  \n",
       "freq         366  "
      ]
     },
     "execution_count": 17,
     "metadata": {},
     "output_type": "execute_result"
    }
   ],
   "source": [
    "df.describe(include=object)"
   ]
  },
  {
   "cell_type": "code",
   "execution_count": 18,
   "metadata": {},
   "outputs": [
    {
     "data": {
      "text/plain": [
       "Unnamed: 0                0\n",
       "Unnamed: 0.1              0\n",
       "DR Number                 0\n",
       "Date Reported             0\n",
       "Date Occurred             0\n",
       "Time Occurred             0\n",
       "Area ID                   0\n",
       "Area Name                 0\n",
       "Reporting District        0\n",
       "Crime Code                0\n",
       "Crime Code Description    0\n",
       "MO Codes                  0\n",
       "Victim Age                0\n",
       "Victim Sex                0\n",
       "Victim Descent            0\n",
       "Premise Code              0\n",
       "Premise Description       0\n",
       "Weapon Used Code          0\n",
       "Weapon Description        0\n",
       "Status Code               0\n",
       "Status Description        0\n",
       "Address                   0\n",
       "Cross Street              0\n",
       "Location                  0\n",
       "Year                      0\n",
       "dtype: int64"
      ]
     },
     "execution_count": 18,
     "metadata": {},
     "output_type": "execute_result"
    }
   ],
   "source": [
    "df.isnull().sum()"
   ]
  },
  {
   "cell_type": "code",
   "execution_count": 19,
   "metadata": {},
   "outputs": [
    {
     "data": {
      "text/plain": [
       "Unnamed: 0                0\n",
       "Unnamed: 0.1              0\n",
       "DR Number                 0\n",
       "Date Reported             0\n",
       "Date Occurred             0\n",
       "Time Occurred             0\n",
       "Area ID                   0\n",
       "Area Name                 0\n",
       "Reporting District        0\n",
       "Crime Code                0\n",
       "Crime Code Description    0\n",
       "MO Codes                  0\n",
       "Victim Age                0\n",
       "Victim Sex                0\n",
       "Victim Descent            0\n",
       "Premise Code              0\n",
       "Premise Description       0\n",
       "Weapon Used Code          0\n",
       "Weapon Description        0\n",
       "Status Code               0\n",
       "Status Description        0\n",
       "Address                   0\n",
       "Cross Street              0\n",
       "Location                  0\n",
       "Year                      0\n",
       "dtype: int64"
      ]
     },
     "execution_count": 19,
     "metadata": {},
     "output_type": "execute_result"
    }
   ],
   "source": [
    "df[df.duplicated()].count()"
   ]
  },
  {
   "cell_type": "code",
   "execution_count": 20,
   "metadata": {},
   "outputs": [],
   "source": [
    "df.dropna(how='all',inplace=True)"
   ]
  },
  {
   "cell_type": "code",
   "execution_count": 21,
   "metadata": {},
   "outputs": [
    {
     "data": {
      "text/plain": [
       "Unnamed: 0                0\n",
       "Unnamed: 0.1              0\n",
       "DR Number                 0\n",
       "Date Reported             0\n",
       "Date Occurred             0\n",
       "Time Occurred             0\n",
       "Area ID                   0\n",
       "Area Name                 0\n",
       "Reporting District        0\n",
       "Crime Code                0\n",
       "Crime Code Description    0\n",
       "MO Codes                  0\n",
       "Victim Age                0\n",
       "Victim Sex                0\n",
       "Victim Descent            0\n",
       "Premise Code              0\n",
       "Premise Description       0\n",
       "Weapon Used Code          0\n",
       "Weapon Description        0\n",
       "Status Code               0\n",
       "Status Description        0\n",
       "Address                   0\n",
       "Cross Street              0\n",
       "Location                  0\n",
       "Year                      0\n",
       "dtype: int64"
      ]
     },
     "execution_count": 21,
     "metadata": {},
     "output_type": "execute_result"
    }
   ],
   "source": [
    "df.isnull().sum()"
   ]
  },
  {
   "cell_type": "code",
   "execution_count": 23,
   "metadata": {},
   "outputs": [],
   "source": [
    "#df.drop(columns=['Crime Code 1', 'Crime Code 2', 'Crime Code 3', 'Crime Code 4'], inplace=True)"
   ]
  },
  {
   "cell_type": "markdown",
   "metadata": {},
   "source": [
    "Moda, mediana, media, mínimo y máximo"
   ]
  },
  {
   "cell_type": "code",
   "execution_count": 24,
   "metadata": {},
   "outputs": [
    {
     "name": "stdout",
     "output_type": "stream",
     "text": [
      "0    ROBBERY\n",
      "dtype: object ---- 34.93727335853715 ---- 32.0 ---- 10.0 ---- 99.0\n"
     ]
    }
   ],
   "source": [
    "moda = df['Crime Code Description'].mode()\n",
    "media = df['Victim Age'].mean()\n",
    "mediana = df['Victim Age'].median()\n",
    "minimo = df['Victim Age'].min()\n",
    "maximo = df['Victim Age'].max()\n",
    "print(moda, '----', media, '----', mediana, '----', minimo, '----', maximo)"
   ]
  },
  {
   "cell_type": "markdown",
   "metadata": {},
   "source": [
    "Gráficos"
   ]
  },
  {
   "cell_type": "code",
   "execution_count": 25,
   "metadata": {},
   "outputs": [
    {
     "data": {
      "image/png": "[encoded data removed]",
      "text/plain": [
       "<Figure size 1080x576 with 1 Axes>"
      ]
     },
     "metadata": {
      "needs_background": "light"
     },
     "output_type": "display_data"
    }
   ],
   "source": [
    "plt.figure(figsize=(15,8))\n",
    "sns.histplot(data = df, x = \"Victim Age\", color = \"grey\")\n",
    "plt.axvline(media, color='red')\n",
    "plt.axvline(mediana, color='orange');"
   ]
  },
  {
   "cell_type": "markdown",
   "metadata": {},
   "source": [
    "Queremos saber qué tipos de crímenes son los más dados y la edad de las personas que cometen estos crímenes. \n",
    "\n",
    "Con los datos obtenidos arriba, podemos ver que el crímen más cometido en 2017 en Los Ángeles es el robatorio y las personas que lo cometen tienen una edad media de 35 años, aunque teneos personas cometiendo crímenes hasta los 99 años, cosa que nos afecta a la media. La persona más joven en cometer un crímen ese año, tenia 10 años."
   ]
  },
  {
   "cell_type": "markdown",
   "metadata": {},
   "source": []
  }
 ],
 "metadata": {
  "kernelspec": {
   "display_name": "Python 3.9.7 ('base')",
   "language": "python",
   "name": "python3"
  },
  "language_info": {
   "codemirror_mode": {
    "name": "ipython",
    "version": 3
   },
   "file_extension": ".py",
   "mimetype": "text/x-python",
   "name": "python",
   "nbconvert_exporter": "python",
   "pygments_lexer": "ipython3",
   "version": "3.9.7"
  },
  "orig_nbformat": 4,
  "vscode": {
   "interpreter": {
    "hash": "40d3a090f54c6569ab1632332b64b2c03c39dcf918b08424e98f38b5ae0af88f"
   }
  }
 },
 "nbformat": 4,
 "nbformat_minor": 2
}
